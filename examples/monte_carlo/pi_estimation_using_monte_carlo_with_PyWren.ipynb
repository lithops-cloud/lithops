{
 "cells": [
  {
   "cell_type": "markdown",
   "metadata": {},
   "source": [
    "# π Estimation with Monte Carlo methods\n",
    "We demonstrate how to run Monte Carlo simulations with PyWren-IBM-Cloud over IBM Cloud Functions. This notebook contains an example of estimation the number π with Monte Carlo. The goal of this notebook is to demonstrate how IBM Cloud Functions can benefit Monte Carlo simulations and not how it can be done using PyWren-IBM-Cloud.<br>\n",
    "A Monte Carlo algorithm would randomly place points in the square and use the percentage of randomized points inside of the circle to estimate the value of π\n",
    "![pi](https://upload.wikimedia.org/wikipedia/commons/8/84/Pi_30K.gif)\n",
    "Requirements to run this notebook:\n",
    "\n",
    "* IBM Cloud account. \n",
    "  Register to IBM Cloud Functions, IBM Cloud Object Storage (COS), Watson Studio\n",
    "* You will need to have at least one existing object storage bucket. Follow COS UI to create a bucket if needed \n",
    "* IBM Watson Studio Python notebook"
   ]
  },
  {
   "cell_type": "markdown",
   "metadata": {},
   "source": [
    "# Step 1 - Install dependencies\n",
    "Install dependencies"
   ]
  },
  {
   "cell_type": "code",
   "execution_count": null,
   "metadata": {},
   "outputs": [],
   "source": [
    "from time import time\n",
    "from random import random\n",
    "import logging\n",
    "\n",
    "# This script installs PyWren-IBM-Cloud from https://github.com/pywren/pywren-ibm-cloud\n",
    "!curl -fsSL \"https://git.io/fhe9X\" | sh\n",
    "try:\n",
    "    import pywren_ibm_cloud as pywren\n",
    "except:\n",
    "    !curl -fsSL \"https://git.io/fhe9X\" | sh\n",
    "    import pywren_ibm_cloud as pywren\n",
    "\n",
    "# you can modify logging level if needed\n",
    "logging.basicConfig(level=logging.INFO)"
   ]
  },
  {
   "cell_type": "markdown",
   "metadata": {},
   "source": [
    "# Step 2 - Write Python code that implements Monte Carlo simulation \n",
    "Below is an example of Python code to demonstrate Monte Carlo model for estimate PI\n",
    "\n",
    "'EstimatePI' is a Python class that we use to represent a single PI estimation. You may configure the following parameters:\n",
    "\n",
    "MAP_INSTANCES - number of IBM Cloud Function invocations. Default is 100<br>\n",
    "randomize_per_map - number of points to random in a single invocation. Default is 10,000,000\n",
    "\n",
    "Our code contains two major Python methods:\n",
    "\n",
    "def randomize_points(self,data=None) - a function to random number of points and return the percentage of points\n",
    "    that inside the circle<br>\n",
    "def process_in_circle_points(self, results, futures): - summarize results of all randomize_points\n",
    "  executions (aka \"reduce\" in map-reduce paradigm)"
   ]
  },
  {
   "cell_type": "code",
   "execution_count": null,
   "metadata": {},
   "outputs": [],
   "source": [
    "MAP_INSTANCES = 100\n",
    "\n",
    "\n",
    "class EstimatePI:\n",
    "    randomize_per_map = 10000000\n",
    "\n",
    "    def __init__(self):\n",
    "        self.total_randomize_points = MAP_INSTANCES * self.randomize_per_map\n",
    "\n",
    "    def __str__(self):\n",
    "        return \"Total Randomize Points: {:,}\".format(self.randomize_per_map * MAP_INSTANCES)\n",
    "\n",
    "    @staticmethod\n",
    "    def predicate():\n",
    "        x = random()\n",
    "        y = random()\n",
    "        return (x ** 2) + (y ** 2) <= 1\n",
    "\n",
    "    def randomize_points(self, data):\n",
    "        in_circle = 0\n",
    "        for _ in range(self.randomize_per_map):\n",
    "            in_circle += self.predicate()\n",
    "        return float(in_circle / self.randomize_per_map)\n",
    "\n",
    "    def process_in_circle_points(self, results, futures):\n",
    "        in_circle_percent = 0\n",
    "        for map_result in results:\n",
    "            in_circle_percent += map_result\n",
    "        run_statuses = [f.run_status for f in futures]\n",
    "        invoke_statuses = [f.invoke_status for f in futures]\n",
    "        estimate_PI = float(4 * (in_circle_percent / MAP_INSTANCES))\n",
    "        return {\"run_statuses\": run_statuses, \"invoke_statuses\": invoke_statuses, \"results\": estimate_PI}"
   ]
  },
  {
   "cell_type": "markdown",
   "metadata": {},
   "source": [
    "# Step 3 - Configure access to your COS account and Cloud Functions\n",
    "Configure access details to your IBM COS and IBM Cloud Functions. 'storage_bucket' should point to some pre-existing COS bucket. This bucket will be used by PyWren to store intermediate results. All results will be stored in the folder Pywren.jobs. For additional configuration parameters see configuration section"
   ]
  },
  {
   "cell_type": "code",
   "execution_count": null,
   "metadata": {},
   "outputs": [],
   "source": [
    "config = {'ibm_cf':  {'endpoint': '<IBM Cloud Functions Endpoint>', \n",
    "                      'namespace': '<NAMESPACE>', \n",
    "                      'api_key': '<API KEY>'}, \n",
    "          'ibm_cos': {'endpoint': '<IBM Cloud Object Storage Endpoint>', \n",
    "                      'api_key' : '<API KEY>'},\n",
    "           'pywren' : {'storage_bucket' : '<IBM COS BUCKET>'}}"
   ]
  },
  {
   "cell_type": "markdown",
   "metadata": {},
   "source": [
    "# Step 4 - Deloy of PyWren runtime\n",
    "The following will create an action \"pywren_3.5\" in your Cloud Function account. This action contains runtime of the PyWren needed to execute your code. Alternative you may create a runtime with manual steps as described here"
   ]
  },
  {
   "cell_type": "code",
   "execution_count": null,
   "metadata": {},
   "outputs": [],
   "source": [
    "from pywren_ibm_cloud.deployutil import clone_runtime\n",
    "clone_runtime('ibmfunctions/pywren:3.5', config, 'pywren-ibm-cloud')"
   ]
  },
  {
   "cell_type": "markdown",
   "metadata": {},
   "source": [
    "# Step 5 - Execute simulation with PyWren over IBM Cloud Functions "
   ]
  },
  {
   "cell_type": "code",
   "execution_count": null,
   "metadata": {},
   "outputs": [],
   "source": [
    "iterdata = [0] * MAP_INSTANCES\n",
    "est_pi = EstimatePI()\n",
    "\n",
    "start_time = time()\n",
    "print(\"Monte Carlo simulation for estimating PI spawing over {} IBM Cloud Function invocations\".format(MAP_INSTANCES))\n",
    "# obtain PyWren-IBM-Cloud executor\n",
    "pw = pywren.ibm_cf_executor(config=config, runtime='pywren_3.5')\n",
    "# execute the code\n",
    "pw.map_reduce(est_pi.randomize_points, iterdata, est_pi.process_in_circle_points, reducer_wait_local=False, remote_invocation=True)\n",
    "#get results\n",
    "result_object = pw.get_result()\n",
    "result_obj = result_object[\"results\"]\n",
    "elapsed = time()\n",
    "print(str(est_pi))\n",
    "print(\"Estimation of Pi: \", result_obj)\n",
    "print(\"\\nCompleted in: \" + str(elapsed - start_time) + \" seconds\")"
   ]
  }
 ],
 "metadata": {
  "kernelspec": {
   "display_name": "Python 3",
   "language": "python",
   "name": "python3"
  },
  "language_info": {
   "codemirror_mode": {
    "name": "ipython",
    "version": 3
   },
   "file_extension": ".py",
   "mimetype": "text/x-python",
   "name": "python",
   "nbconvert_exporter": "python",
   "pygments_lexer": "ipython3",
   "version": "3.6.7"
  }
 },
 "nbformat": 4,
 "nbformat_minor": 2
}
